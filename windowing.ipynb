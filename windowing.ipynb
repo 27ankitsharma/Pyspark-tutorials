{
 "cells": [
  {
   "cell_type": "code",
   "execution_count": 8,
   "metadata": {
    "collapsed": true
   },
   "outputs": [],
   "source": [
    "from pyspark.sql import Window\n",
    "from pyspark.sql.functions import mean"
   ]
  },
  {
   "cell_type": "code",
   "execution_count": 4,
   "metadata": {
    "collapsed": true
   },
   "outputs": [],
   "source": [
    "df = spark.read.csv('s3://ui-spark-data/diamonds.csv', inferSchema=True, header=True, sep=',')"
   ]
  },
  {
   "cell_type": "code",
   "execution_count": 5,
   "metadata": {
    "collapsed": false
   },
   "outputs": [
    {
     "name": "stdout",
     "output_type": "stream",
     "text": [
      "+-----+---------+-----+-------+-----+-----+-----+----+----+----+\n",
      "|carat|      cut|color|clarity|depth|table|price|   x|   y|   z|\n",
      "+-----+---------+-----+-------+-----+-----+-----+----+----+----+\n",
      "| 0.23|    Ideal|    E|    SI2| 61.5| 55.0|  326|3.95|3.98|2.43|\n",
      "| 0.21|  Premium|    E|    SI1| 59.8| 61.0|  326|3.89|3.84|2.31|\n",
      "| 0.23|     Good|    E|    VS1| 56.9| 65.0|  327|4.05|4.07|2.31|\n",
      "| 0.29|  Premium|    I|    VS2| 62.4| 58.0|  334| 4.2|4.23|2.63|\n",
      "| 0.31|     Good|    J|    SI2| 63.3| 58.0|  335|4.34|4.35|2.75|\n",
      "| 0.24|Very Good|    J|   VVS2| 62.8| 57.0|  336|3.94|3.96|2.48|\n",
      "| 0.24|Very Good|    I|   VVS1| 62.3| 57.0|  336|3.95|3.98|2.47|\n",
      "| 0.26|Very Good|    H|    SI1| 61.9| 55.0|  337|4.07|4.11|2.53|\n",
      "| 0.22|     Fair|    E|    VS2| 65.1| 61.0|  337|3.87|3.78|2.49|\n",
      "| 0.23|Very Good|    H|    VS1| 59.4| 61.0|  338| 4.0|4.05|2.39|\n",
      "|  0.3|     Good|    J|    SI1| 64.0| 55.0|  339|4.25|4.28|2.73|\n",
      "| 0.23|    Ideal|    J|    VS1| 62.8| 56.0|  340|3.93| 3.9|2.46|\n",
      "| 0.22|  Premium|    F|    SI1| 60.4| 61.0|  342|3.88|3.84|2.33|\n",
      "| 0.31|    Ideal|    J|    SI2| 62.2| 54.0|  344|4.35|4.37|2.71|\n",
      "|  0.2|  Premium|    E|    SI2| 60.2| 62.0|  345|3.79|3.75|2.27|\n",
      "| 0.32|  Premium|    E|     I1| 60.9| 58.0|  345|4.38|4.42|2.68|\n",
      "|  0.3|    Ideal|    I|    SI2| 62.0| 54.0|  348|4.31|4.34|2.68|\n",
      "|  0.3|     Good|    J|    SI1| 63.4| 54.0|  351|4.23|4.29| 2.7|\n",
      "|  0.3|     Good|    J|    SI1| 63.8| 56.0|  351|4.23|4.26|2.71|\n",
      "|  0.3|Very Good|    J|    SI1| 62.7| 59.0|  351|4.21|4.27|2.66|\n",
      "+-----+---------+-----+-------+-----+-----+-----+----+----+----+\n",
      "only showing top 20 rows\n",
      "\n"
     ]
    }
   ],
   "source": [
    "df.show()"
   ]
  },
  {
   "cell_type": "code",
   "execution_count": 6,
   "metadata": {
    "collapsed": true
   },
   "outputs": [],
   "source": [
    "window = Window.partitionBy('cut').orderBy('price').rowsBetween(-3, 3)"
   ]
  },
  {
   "cell_type": "code",
   "execution_count": 7,
   "metadata": {
    "collapsed": false
   },
   "outputs": [
    {
     "data": {
      "text/plain": [
       "<pyspark.sql.window.WindowSpec at 0x7f0ed4088510>"
      ]
     },
     "execution_count": 7,
     "metadata": {},
     "output_type": "execute_result"
    }
   ],
   "source": [
    "window"
   ]
  },
  {
   "cell_type": "code",
   "execution_count": 9,
   "metadata": {
    "collapsed": true
   },
   "outputs": [],
   "source": [
    "moving_avg = mean(df['price']).over(window)"
   ]
  },
  {
   "cell_type": "code",
   "execution_count": 10,
   "metadata": {
    "collapsed": false
   },
   "outputs": [
    {
     "data": {
      "text/plain": [
       "Column<avg(price) OVER (PARTITION BY cut ORDER BY price ASC ROWS BETWEEN 3 PRECEDING AND 3 FOLLOWING)>"
      ]
     },
     "execution_count": 10,
     "metadata": {},
     "output_type": "execute_result"
    }
   ],
   "source": [
    "moving_avg"
   ]
  },
  {
   "cell_type": "code",
   "execution_count": 15,
   "metadata": {
    "collapsed": false
   },
   "outputs": [
    {
     "name": "stdout",
     "output_type": "stream",
     "text": [
      "+-----+-------+-----+-------+-----+-----+-----+----+----+----+------------------+\n",
      "|carat|    cut|color|clarity|depth|table|price|   x|   y|   z|    moving_average|\n",
      "+-----+-------+-----+-------+-----+-----+-----+----+----+----+------------------+\n",
      "| 0.21|Premium|    E|    SI1| 59.8| 61.0|  326|3.89|3.84|2.31|            336.75|\n",
      "| 0.29|Premium|    I|    VS2| 62.4| 58.0|  334| 4.2|4.23|2.63|             338.4|\n",
      "| 0.22|Premium|    F|    SI1| 60.4| 61.0|  342|3.88|3.84|2.33| 341.1666666666667|\n",
      "|  0.2|Premium|    E|    SI2| 60.2| 62.0|  345|3.79|3.75|2.27| 344.2857142857143|\n",
      "| 0.32|Premium|    E|     I1| 60.9| 58.0|  345|4.38|4.42|2.68|349.85714285714283|\n",
      "| 0.24|Premium|    I|    VS1| 62.5| 57.0|  355|3.97|3.94|2.47|354.57142857142856|\n",
      "| 0.31|Premium|    J|    SI1| 60.9| 60.0|  363|4.36|4.38|2.66|358.14285714285717|\n",
      "| 0.32|Premium|    J|    SI1| 62.2| 59.0|  365|4.37|4.41|2.73| 361.2857142857143|\n",
      "|  0.2|Premium|    E|    VS2| 59.8| 62.0|  367|3.79|3.77|2.26|364.42857142857144|\n",
      "|  0.2|Premium|    E|    VS2| 59.0| 60.0|  367|3.81|3.78|2.24|366.14285714285717|\n",
      "|  0.2|Premium|    E|    VS2| 61.1| 59.0|  367|3.81|3.78|2.32| 366.7142857142857|\n",
      "|  0.2|Premium|    E|    VS2| 59.7| 62.0|  367|3.84| 3.8|2.28|             367.0|\n",
      "|  0.2|Premium|    F|    VS2| 62.6| 59.0|  367|3.73|3.71|2.33|367.14285714285717|\n",
      "|  0.2|Premium|    D|    VS2| 62.3| 60.0|  367|3.73|3.68|2.31| 367.2857142857143|\n",
      "|  0.2|Premium|    D|    VS2| 61.7| 60.0|  367|3.77|3.72|2.31|367.42857142857144|\n",
      "|  0.3|Premium|    J|    VS2| 62.2| 58.0|  368|4.28| 4.3|2.67|             369.0|\n",
      "|  0.3|Premium|    J|    VS2| 60.6| 59.0|  368|4.34|4.38|2.64|370.85714285714283|\n",
      "|  0.3|Premium|    H|    SI2| 60.9| 59.0|  368|4.32|4.35|2.64| 372.7142857142857|\n",
      "|  0.3|Premium|    H|    SI2| 61.9| 60.0|  378|4.27|4.29|2.65|374.85714285714283|\n",
      "| 0.31|Premium|    J|    VS2| 62.5| 60.0|  380|4.31|4.36|2.71|376.85714285714283|\n",
      "+-----+-------+-----+-------+-----+-----+-----+----+----+----+------------------+\n",
      "only showing top 20 rows\n",
      "\n"
     ]
    }
   ],
   "source": [
    "df.withColumn('moving_average', moving_avg).show()"
   ]
  },
  {
   "cell_type": "code",
   "execution_count": 16,
   "metadata": {
    "collapsed": false
   },
   "outputs": [
    {
     "data": {
      "text/plain": [
       "pyspark.sql.column.Column"
      ]
     },
     "execution_count": 16,
     "metadata": {},
     "output_type": "execute_result"
    }
   ],
   "source": [
    "type(moving_avg)"
   ]
  },
  {
   "cell_type": "code",
   "execution_count": 17,
   "metadata": {
    "collapsed": true
   },
   "outputs": [],
   "source": [
    "from pyspark.sql.functions import udf\n",
    "\n",
    "def switch_col(a, b):\n",
    "    if a == 61.1:\n",
    "        return b\n",
    "    else:\n",
    "        return a\n",
    "    \n",
    "udf_switch = udf(switch_col)"
   ]
  },
  {
   "cell_type": "code",
   "execution_count": 18,
   "metadata": {
    "collapsed": true
   },
   "outputs": [],
   "source": [
    "df_new = df.withColumn('repl_sixoneone', udf_switch('depth', 'price'))"
   ]
  },
  {
   "cell_type": "code",
   "execution_count": 20,
   "metadata": {
    "collapsed": false
   },
   "outputs": [
    {
     "name": "stdout",
     "output_type": "stream",
     "text": [
      "+-----+---------+-----+-------+-----+-----+-----+----+----+----+--------------+\n",
      "|carat|      cut|color|clarity|depth|table|price|   x|   y|   z|repl_sixoneone|\n",
      "+-----+---------+-----+-------+-----+-----+-----+----+----+----+--------------+\n",
      "| 0.33|    Ideal|    J|    SI1| 61.1| 56.0|  403|4.49|4.55|2.76|           403|\n",
      "|  0.7|Very Good|    D|    SI1| 61.1| 58.0| 2768|5.66|5.73|3.48|          2768|\n",
      "|  0.7|  Premium|    E|    VS2| 61.1| 60.0| 2777|5.71|5.64|3.47|          2777|\n",
      "| 0.83|Very Good|    I|    VS1| 61.1| 60.0| 2788|6.07| 6.1|3.72|          2788|\n",
      "| 0.74|     Fair|    F|    VS2| 61.1| 68.0| 2805|5.82|5.75|3.53|          2805|\n",
      "| 0.75|  Premium|    E|    SI1| 61.1| 59.0| 2814|5.86|5.83|3.57|          2814|\n",
      "| 0.76|  Premium|    D|    SI1| 61.1| 59.0| 2847|5.93|5.88|3.61|          2847|\n",
      "|  0.7|    Ideal|    H|    VS2| 61.1| 57.0| 2862|5.71|5.74| 3.5|          2862|\n",
      "| 0.72|    Ideal|    D|    SI1| 61.1| 56.0| 2891|5.78|5.81|3.54|          2891|\n",
      "| 0.76|  Premium|    E|    SI1| 61.1| 58.0| 2897|5.91|5.85|3.59|          2897|\n",
      "| 0.79|    Ideal|    G|    SI1| 61.1| 57.0| 2898|5.98|5.93|3.64|          2898|\n",
      "| 0.72|  Premium|    E|    VS2| 61.1| 59.0| 2903| 5.8|5.75|3.53|          2903|\n",
      "| 0.31|  Premium|    I|    VS2| 61.1| 58.0|  558|4.38|4.36|2.67|           558|\n",
      "| 0.59|    Ideal|    E|   VVS2| 61.1| 57.0| 2911|5.39|5.41| 3.3|          2911|\n",
      "| 0.78|    Ideal|    F|    SI1| 61.1| 56.0| 2923|5.94|5.98|3.64|          2923|\n",
      "|  0.8|Very Good|    G|    VS2| 61.1| 57.0| 2929|6.01|6.07|3.69|          2929|\n",
      "| 0.71|  Premium|    F|    VS1| 61.1| 58.0| 2942|5.76|5.72|3.51|          2942|\n",
      "| 0.74|    Ideal|    I|    VS1| 61.1| 57.0| 2947|5.83|5.86|3.57|          2947|\n",
      "| 0.72|  Premium|    E|    VS2| 61.1| 59.0| 2954|5.75| 5.8|3.53|          2954|\n",
      "| 0.72|    Ideal|    H|    VS1| 61.1| 57.0| 2961| 5.8|5.82|3.55|          2961|\n",
      "+-----+---------+-----+-------+-----+-----+-----+----+----+----+--------------+\n",
      "only showing top 20 rows\n",
      "\n"
     ]
    }
   ],
   "source": [
    "df_new.where(df['depth'] == 61.1).show()"
   ]
  },
  {
   "cell_type": "code",
   "execution_count": 21,
   "metadata": {
    "collapsed": false
   },
   "outputs": [
    {
     "name": "stdout",
     "output_type": "stream",
     "text": [
      "+-----+---------+-----+-------+-----+-----+-----+----+----+----+--------------+\n",
      "|carat|      cut|color|clarity|depth|table|price|   x|   y|   z|repl_sixoneone|\n",
      "+-----+---------+-----+-------+-----+-----+-----+----+----+----+--------------+\n",
      "| 0.23|    Ideal|    E|    SI2| 61.5| 55.0|  326|3.95|3.98|2.43|          61.5|\n",
      "| 0.21|  Premium|    E|    SI1| 59.8| 61.0|  326|3.89|3.84|2.31|          59.8|\n",
      "| 0.23|     Good|    E|    VS1| 56.9| 65.0|  327|4.05|4.07|2.31|          56.9|\n",
      "| 0.29|  Premium|    I|    VS2| 62.4| 58.0|  334| 4.2|4.23|2.63|          62.4|\n",
      "| 0.31|     Good|    J|    SI2| 63.3| 58.0|  335|4.34|4.35|2.75|          63.3|\n",
      "| 0.24|Very Good|    J|   VVS2| 62.8| 57.0|  336|3.94|3.96|2.48|          62.8|\n",
      "| 0.24|Very Good|    I|   VVS1| 62.3| 57.0|  336|3.95|3.98|2.47|          62.3|\n",
      "| 0.26|Very Good|    H|    SI1| 61.9| 55.0|  337|4.07|4.11|2.53|          61.9|\n",
      "| 0.22|     Fair|    E|    VS2| 65.1| 61.0|  337|3.87|3.78|2.49|          65.1|\n",
      "| 0.23|Very Good|    H|    VS1| 59.4| 61.0|  338| 4.0|4.05|2.39|          59.4|\n",
      "|  0.3|     Good|    J|    SI1| 64.0| 55.0|  339|4.25|4.28|2.73|          64.0|\n",
      "| 0.23|    Ideal|    J|    VS1| 62.8| 56.0|  340|3.93| 3.9|2.46|          62.8|\n",
      "| 0.22|  Premium|    F|    SI1| 60.4| 61.0|  342|3.88|3.84|2.33|          60.4|\n",
      "| 0.31|    Ideal|    J|    SI2| 62.2| 54.0|  344|4.35|4.37|2.71|          62.2|\n",
      "|  0.2|  Premium|    E|    SI2| 60.2| 62.0|  345|3.79|3.75|2.27|          60.2|\n",
      "| 0.32|  Premium|    E|     I1| 60.9| 58.0|  345|4.38|4.42|2.68|          60.9|\n",
      "|  0.3|    Ideal|    I|    SI2| 62.0| 54.0|  348|4.31|4.34|2.68|          62.0|\n",
      "|  0.3|     Good|    J|    SI1| 63.4| 54.0|  351|4.23|4.29| 2.7|          63.4|\n",
      "|  0.3|     Good|    J|    SI1| 63.8| 56.0|  351|4.23|4.26|2.71|          63.8|\n",
      "|  0.3|Very Good|    J|    SI1| 62.7| 59.0|  351|4.21|4.27|2.66|          62.7|\n",
      "+-----+---------+-----+-------+-----+-----+-----+----+----+----+--------------+\n",
      "only showing top 20 rows\n",
      "\n"
     ]
    }
   ],
   "source": [
    "df_new.where(df['depth'] != 61.1).show()"
   ]
  },
  {
   "cell_type": "code",
   "execution_count": null,
   "metadata": {
    "collapsed": true
   },
   "outputs": [],
   "source": []
  }
 ],
 "metadata": {
  "kernelspec": {
   "display_name": "Python 2",
   "language": "python",
   "name": "python2"
  },
  "language_info": {
   "codemirror_mode": {
    "name": "ipython",
    "version": 2
   },
   "file_extension": ".py",
   "mimetype": "text/x-python",
   "name": "python",
   "nbconvert_exporter": "python",
   "pygments_lexer": "ipython2",
   "version": "2.7.10"
  }
 },
 "nbformat": 4,
 "nbformat_minor": 0
}
